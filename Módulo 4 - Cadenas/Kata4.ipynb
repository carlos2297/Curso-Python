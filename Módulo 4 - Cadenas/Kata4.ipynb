{
  "cells": [
    {
      "cell_type": "markdown",
      "metadata": {},
      "source": [
        "# Ejercicio 1: Transformar cadenas\n",
        "Hay varias operaciones que puedes realizar en las cadenas cuando las manipulamos. En este ejercicio, usarás métodos de cadena para modificar el texto con hechos sobre la Luna y luego extraerás información para crear un breve resumen.\n",
        "\n",
        "> **Nota**\n",
        "> Dedica unos minutos a tratar de encontrar una solución. Luego desplázate hacia abajo hasta la parte inferior para ver si has logrado compilar el programa de acuerdo con las especificaciones."
      ]
    },
    {
      "cell_type": "markdown",
      "metadata": {},
      "source": [
        "El texto con el que trabajarás es el siguiente: "
      ]
    },
    {
      "cell_type": "code",
      "execution_count": 114,
      "metadata": {},
      "outputs": [],
      "source": [
        "text = \"\"\"Interesting facts about the Moon. The Moon is Earth's only satellite. There are several interesting facts about the Moon and how it affects life here on Earth. \n",
        "On average, the Moon moves 4cm away from the Earth every year. This yearly drift is not significant enough to cause immediate effects on Earth. The highest daylight temperature of the Moon is 127 C.\"\"\""
      ]
    },
    {
      "cell_type": "markdown",
      "metadata": {},
      "source": [
        "Primero, divide el texto en cada oración para trabajar con su contenido:"
      ]
    },
    {
      "cell_type": "code",
      "execution_count": 115,
      "metadata": {},
      "outputs": [
        {
          "name": "stdout",
          "output_type": "stream",
          "text": [
            "['Interesting facts about the Moon', \" The Moon is Earth's only satellite\", ' There are several interesting facts about the Moon and how it affects life here on Earth', ' On average, the Moon moves 4cm away from the Earth every year', ' This yearly drift is not significant enough to cause immediate effects on Earth', ' The highest daylight temperature of the Moon is 127 C', '']\n"
          ]
        }
      ],
      "source": [
        "# Añade el código necesario\n",
        "texto = text.replace(\"\\n\",\"\")\n",
        "texto = texto.split(sep=\".\")\n",
        "print(texto)"
      ]
    },
    {
      "cell_type": "markdown",
      "metadata": {},
      "source": [
        "Ahora, define algunas palabras clave para búsqueda que te ayudarán a determinar si una oración contiene un hecho."
      ]
    },
    {
      "cell_type": "code",
      "execution_count": 116,
      "metadata": {},
      "outputs": [],
      "source": [
        "# Define las palabras pista: average, temperature y distance suenan bien\n",
        "palabras = [\"average\", \"temperature\", \"distance\",\"only\"]"
      ]
    },
    {
      "cell_type": "markdown",
      "metadata": {},
      "source": [
        "Cre un bucle para imprimir solo datos sobre la Luna que estén relacionados con las palabras clave definidas anteriormente:"
      ]
    },
    {
      "cell_type": "code",
      "execution_count": 117,
      "metadata": {},
      "outputs": [
        {
          "name": "stdout",
          "output_type": "stream",
          "text": [
            "Enunciado que coincide con la palabra only: \n",
            " The Moon is Earth's only satellite\n",
            "\n",
            "Enunciado que coincide con la palabra average: \n",
            " On average, the Moon moves 4cm away from the Earth every year\n",
            "\n",
            "Enunciado que coincide con la palabra temperature: \n",
            " The highest daylight temperature of the Moon is 127 C\n",
            "\n"
          ]
        }
      ],
      "source": [
        "# Ciclo for para recorrer la cadena\n",
        "\n",
        "for oracion in texto:\n",
        "    for palabra in palabras:\n",
        "        if oracion.find(palabra) != -1:\n",
        "            print(\"Enunciado que coincide con la palabra \"+palabra+\": \\n\"+oracion+\"\\n\")\n",
        "\n",
        "\n",
        "\n"
      ]
    },
    {
      "cell_type": "markdown",
      "metadata": {},
      "source": [
        "Finalmente, actualiza el bucle(ciclo) para cambiar _C_ a _Celsius_:"
      ]
    },
    {
      "cell_type": "code",
      "execution_count": 118,
      "metadata": {},
      "outputs": [
        {
          "name": "stdout",
          "output_type": "stream",
          "text": [
            "Enunciado que coincide con la palabra only: \n",
            " The Moon is Earth's only satellite\n",
            "\n",
            "Enunciado que coincide con la palabra average: \n",
            " On average, the Moon moves 4cm away from the Earth every year\n",
            "\n",
            "Enunciado que coincide con la palabra temperature: \n",
            " The highest daylight temperature of the Moon is 127 Celsius\n",
            "\n"
          ]
        }
      ],
      "source": [
        "# Ciclo para cambiar C a Celsius\n",
        "for oracion in texto:\n",
        "    for palabra in palabras:\n",
        "        if oracion.find(palabra) != -1:\n",
        "           print(\"Enunciado que coincide con la palabra \"+palabra+\": \\n\"+oracion.replace(\"C\",\"Celsius\")+\"\\n\")\n",
        "           break"
      ]
    },
    {
      "cell_type": "markdown",
      "metadata": {},
      "source": [
        "> Recuerda: Lo importante es intentarlo, puedes auxiliarte de internet, libros, etc. El objetivo de una kata es la comprobación de la comprensión de la lección y su aplicación inmediata a la resolución de problemas. Go for it!"
      ]
    },
    {
      "cell_type": "markdown",
      "metadata": {},
      "source": [
        "# Ejercicio 2: Formateando Cadenas\n",
        "\n",
        "Saber cómo dar formato a las cadenas es esencial cuando se presenta información de un programa. Hay algunas maneras diferentes de lograr esto en Python. En este ejercicio, se utilizan variables que contienen datos clave sobre la gravedad en varias lunas y luego se utilizan para dar formato e imprimir la información.\n",
        "\n",
        "El formato tiene que acomodar información sobre otras lunas, por lo que debe ser genérico.\n",
        "\n",
        "En lugar de reemplazar las variables en una cadena larga como parte de un párrafo, utiliza la información para presentarla en un formato tabular. El resultado debería verse así:\n",
        "\n",
        "```\n",
        "Gravity Facts about Ganymede\n",
        "-------------------------------------------------------------------------------\n",
        "Planet Name: Mars\n",
        "Gravity on Ganymede: 1.4300000000000002 m/s2\n",
        "```"
      ]
    },
    {
      "cell_type": "code",
      "execution_count": 119,
      "metadata": {},
      "outputs": [],
      "source": [
        "# Datos con los que vas a trabajar\n",
        "name = \"Moon\"\n",
        "gravity = 0.00162 # in kms\n",
        "planet = \"Earth\""
      ]
    },
    {
      "cell_type": "markdown",
      "metadata": {},
      "source": [
        "Primero, crea un título para el texto. Debido a que este texto trata sobre la gravedad en la Tierra y la Luna, úsalo para crear un título significativo. Utiliza las variables en lugar de escribir."
      ]
    },
    {
      "cell_type": "code",
      "execution_count": 120,
      "metadata": {},
      "outputs": [],
      "source": [
        "# Creamos el título\n",
        "titulo = f\"Gravity Facts about {name}\""
      ]
    },
    {
      "cell_type": "markdown",
      "metadata": {},
      "source": [
        "Ahora crea una plantilla de cadena multilínea para contener el resto de la información. En lugar de usar kilómetros, debes convertir la distancia a metros multiplicando por 1,000."
      ]
    },
    {
      "cell_type": "code",
      "execution_count": 121,
      "metadata": {},
      "outputs": [],
      "source": [
        "# Creamos la plantilla\n",
        "datos = f\"\"\"{'-'*100} \n",
        "Planet Name: {planet} \n",
        "Gravity on {name}: {gravity * 1000} m/s2 \n",
        "\"\"\""
      ]
    },
    {
      "cell_type": "markdown",
      "metadata": {},
      "source": [
        "Finalmente, usa ambas variables para unir el título y los hechos."
      ]
    },
    {
      "cell_type": "code",
      "execution_count": 122,
      "metadata": {},
      "outputs": [
        {
          "name": "stdout",
          "output_type": "stream",
          "text": [
            "Gravity Facts about Moon\n",
            "---------------------------------------------------------------------------------------------------- \n",
            "Planet Name: Earth \n",
            "Gravity on Moon: 1.6199999999999999 m/s2 \n",
            "\n"
          ]
        }
      ],
      "source": [
        "# Unión de ambas cadenas\n",
        "plantilla= f\"\"\"{titulo}\n",
        "{datos}\"\"\"\n",
        "\n",
        "print(plantilla)"
      ]
    },
    {
      "cell_type": "markdown",
      "metadata": {},
      "source": [
        "Ahora usa información de una luna diferente para ver si la plantilla todavía funciona.\n",
        "\n",
        "Datos muestra: \n",
        "```\n",
        "planeta = 'Marte '\n",
        "gravedad  = 0.00143\n",
        "nombre = 'Ganímedes'\n",
        "```"
      ]
    },
    {
      "cell_type": "code",
      "execution_count": 123,
      "metadata": {},
      "outputs": [
        {
          "name": "stdout",
          "output_type": "stream",
          "text": [
            "Gravity Facts about Moon\n",
            "---------------------------------------------------------------------------------------------------- \n",
            "Planet Name: Earth \n",
            "Gravity on Moon: 1.6199999999999999 m/s2 \n",
            "\n"
          ]
        }
      ],
      "source": [
        "# Comprueba la plantilla\n",
        "# print(nombre_plantilla)\n",
        "name = \"Marte\"\n",
        "gravity = 0.00143 # in kms\n",
        "planet = \"Ganímedes\"\n",
        "\n",
        "print(plantilla)"
      ]
    },
    {
      "cell_type": "markdown",
      "metadata": {},
      "source": [
        "La salida no muestra información sobre Marte. Todavía muestra información sobre la Luna. Esto sucede porque las cadenas f están ansiosas en su evaluación, por lo que las variables una vez asignadas no se pueden reasignar. Para evitar este problema, vuelva a hacer la plantilla para utilizar .format():"
      ]
    },
    {
      "cell_type": "code",
      "execution_count": 124,
      "metadata": {},
      "outputs": [
        {
          "ename": "KeyError",
          "evalue": "'gravity*100'",
          "output_type": "error",
          "traceback": [
            "\u001b[1;31m---------------------------------------------------------------------------\u001b[0m",
            "\u001b[1;31mKeyError\u001b[0m                                  Traceback (most recent call last)",
            "\u001b[1;32mc:\\Users\\CARLOS\\Desktop\\Launch X\\CursoIntroPython-main\\Módulo 4 - Cadenas\\Kata4.ipynb Cell 24'\u001b[0m in \u001b[0;36m<module>\u001b[1;34m\u001b[0m\n\u001b[0;32m      <a href='vscode-notebook-cell:/c%3A/Users/CARLOS/Desktop/Launch%20X/CursoIntroPython-main/M%C3%B3dulo%204%20-%20Cadenas/Kata4.ipynb#ch0000023?line=0'>1</a>\u001b[0m \u001b[39m# Nueva plantilla\u001b[39;00m\n\u001b[0;32m      <a href='vscode-notebook-cell:/c%3A/Users/CARLOS/Desktop/Launch%20X/CursoIntroPython-main/M%C3%B3dulo%204%20-%20Cadenas/Kata4.ipynb#ch0000023?line=1'>2</a>\u001b[0m plantilla2 \u001b[39m=\u001b[39m\u001b[39m\"\"\"\u001b[39m\u001b[39mGravity Facts about \u001b[39m\u001b[39m{name}\u001b[39;00m\n\u001b[0;32m      <a href='vscode-notebook-cell:/c%3A/Users/CARLOS/Desktop/Launch%20X/CursoIntroPython-main/M%C3%B3dulo%204%20-%20Cadenas/Kata4.ipynb#ch0000023?line=2'>3</a>\u001b[0m \u001b[39m{lines}\u001b[39;00m\u001b[39m \u001b[39m\n\u001b[0;32m      <a href='vscode-notebook-cell:/c%3A/Users/CARLOS/Desktop/Launch%20X/CursoIntroPython-main/M%C3%B3dulo%204%20-%20Cadenas/Kata4.ipynb#ch0000023?line=3'>4</a>\u001b[0m \u001b[39mPlanet Name: \u001b[39m\u001b[39m{planet}\u001b[39;00m\u001b[39m \u001b[39m\n\u001b[0;32m      <a href='vscode-notebook-cell:/c%3A/Users/CARLOS/Desktop/Launch%20X/CursoIntroPython-main/M%C3%B3dulo%204%20-%20Cadenas/Kata4.ipynb#ch0000023?line=4'>5</a>\u001b[0m \u001b[39mGravity on \u001b[39m\u001b[39m{name}\u001b[39;00m\u001b[39m: \u001b[39m\u001b[39m{\u001b[39m\u001b[39mgravity*100} m/s2 \u001b[39m\n\u001b[0;32m      <a href='vscode-notebook-cell:/c%3A/Users/CARLOS/Desktop/Launch%20X/CursoIntroPython-main/M%C3%B3dulo%204%20-%20Cadenas/Kata4.ipynb#ch0000023?line=5'>6</a>\u001b[0m \u001b[39m\"\"\"\u001b[39m\n\u001b[1;32m----> <a href='vscode-notebook-cell:/c%3A/Users/CARLOS/Desktop/Launch%20X/CursoIntroPython-main/M%C3%B3dulo%204%20-%20Cadenas/Kata4.ipynb#ch0000023?line=7'>8</a>\u001b[0m \u001b[39mprint\u001b[39m(plantilla2\u001b[39m.\u001b[39;49mformat(name\u001b[39m=\u001b[39;49mname, lines\u001b[39m=\u001b[39;49m\u001b[39m'\u001b[39;49m\u001b[39m-\u001b[39;49m\u001b[39m'\u001b[39;49m\u001b[39m*\u001b[39;49m\u001b[39m100\u001b[39;49m, planet\u001b[39m=\u001b[39;49m planet, gravity\u001b[39m=\u001b[39;49mgravity))\n",
            "\u001b[1;31mKeyError\u001b[0m: 'gravity*100'"
          ]
        }
      ],
      "source": [
        "# Nueva plantilla\n",
        "plantilla2 =\"\"\"Gravity Facts about {name}\n",
        "{lines} \n",
        "Planet Name: {planet} \n",
        "Gravity on {name}: {gravity*100} m/s2 \n",
        "\"\"\"\n",
        "\n",
        "print(plantilla2.format(name=name, lines='-'*100, planet= planet, gravity=gravity))"
      ]
    },
    {
      "cell_type": "markdown",
      "metadata": {},
      "source": [
        "Debido a que .format() no permite expresiones, la gravedad en Ganímedes es incorrecta. Asegúrese de que la operación se realiza fuera de la plantilla de formato e imprima de nuevo para ver el resultado de trabajo."
      ]
    },
    {
      "cell_type": "code",
      "execution_count": null,
      "metadata": {},
      "outputs": [
        {
          "name": "stdout",
          "output_type": "stream",
          "text": [
            "Gravity Facts about Marte\n",
            "---------------------------------------------------------------------------------------------------- \n",
            "Planet Name: Ganímedes \n",
            "Gravity on Marte: 1.4300000000000002 m/s2 \n",
            "\n"
          ]
        }
      ],
      "source": [
        "# Pista: print(nueva_plantilla.format(variables))\n",
        "\n",
        "plantilla2 =\"\"\"Gravity Facts about {name}\n",
        "{lines} \n",
        "Planet Name: {planet} \n",
        "Gravity on {name}: {gravity} m/s2 \n",
        "\"\"\"\n",
        "\n",
        "print(plantilla2.format(name=name, lines='-'*100, planet= planet, gravity=gravity*1000))"
      ]
    },
    {
      "cell_type": "markdown",
      "metadata": {},
      "source": [
        "Curso Propedútico de Python para Launch X - Innovacción Virtual.\n",
        "\n",
        "Material desarrollado con base en los contenidos de MSLearn y la metáfora de LaunchX, traducción e implementación por: Fernanda Ochoa - Learning Producer de LaunchX.\n",
        "\n",
        "Redes:\n",
        "* GitHub: [FernandaOchoa](https://github.com/FernandaOchoa)\n",
        "* Twitter: [@imonsh](https://twitter.com/imonsh)\n",
        "* Instagram: [fherz8a](https://www.instagram.com/fherz8a/)"
      ]
    }
  ],
  "metadata": {
    "interpreter": {
      "hash": "502cd6c3b6c9e666d195e1caff9d64ea12bf644e547a4c8fae84812082c54b6f"
    },
    "kernel_info": {
      "name": "conda-env-py37_default-py"
    },
    "kernelspec": {
      "display_name": "py37_default",
      "language": "python",
      "name": "python3"
    },
    "language_info": {
      "codemirror_mode": {
        "name": "ipython",
        "version": 3
      },
      "file_extension": ".py",
      "mimetype": "text/x-python",
      "name": "python",
      "nbconvert_exporter": "python",
      "pygments_lexer": "ipython3",
      "version": "3.9.10"
    },
    "nteract": {
      "version": "nteract-front-end@1.0.0"
    },
    "orig_nbformat": 4
  },
  "nbformat": 4,
  "nbformat_minor": 2
}
